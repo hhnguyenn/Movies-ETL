{
 "cells": [
  {
   "cell_type": "code",
   "execution_count": 1,
   "metadata": {},
   "outputs": [],
   "source": [
    "#Import Dependencies\n",
    "import json\n",
    "import pandas as pd\n",
    "import numpy as np\n",
    "import re\n",
    "from sqlalchemy import create_engine\n",
    "import psycopg2\n",
    "import time\n"
   ]
  },
  {
   "cell_type": "code",
   "execution_count": 2,
   "metadata": {},
   "outputs": [],
   "source": [
    "#Import db password\n",
    "from config import db_password"
   ]
  },
  {
   "cell_type": "code",
   "execution_count": 3,
   "metadata": {},
   "outputs": [],
   "source": [
    "#file path\n",
    "file_dir='C:/Users/hhngu/Desktop/BootCamp/Module_8/'"
   ]
  },
  {
   "cell_type": "code",
   "execution_count": 6,
   "metadata": {},
   "outputs": [],
   "source": [
    "#Define files to load\n",
    "def load_movie_file(wiki_file, kaggle_file, ratings):\n",
    "    with open(f'{file_dir}/wikipedia.movies.json', mode='r') as file:\n",
    "        wiki_movies_raw=json.load(file)\n",
    "    kaggle_metadata=pd.read_csv(f'{file_dir}movies_metadata.csv', low_memory=False)\n",
    "    ratings=pd.read_csv(f'{file_dir}ratings.csv')\n",
    "    \n",
    "    #select movie that have director, imdb link and no. of episodes\n",
    "    wiki_movies = [movie for movie in wiki_movies_raw\n",
    "        if ('Director' in movie or 'Directed by' in movie) and \n",
    "               'imdb_link' in movie and \n",
    "               'No. of episodes' not in movie]\n",
    "    wiki_movies_df=pd.DataFrame(wiki_movies)\n",
    "    \n",
    "    #Drop duplicate\n",
    "    wiki_movies_df['imdb_id'] = wiki_movies_df['imdb_link'].str.extract(r'(tt\\d{7})')\n",
    "    wiki_movies_df.drop_duplicates(subset='imdb_id', inplace=True)\n",
    "    #keep columns with <90% null\n",
    "    wiki_columns_to_keep = [column for column in wiki_movies_df.columns if wiki_movies_df[column].isnull().sum() < len(wiki_movies_df) * 0.9]\n",
    "    wiki_movies_df = wiki_movies_df[wiki_columns_to_keep]\n",
    "    "
   ]
  },
  {
   "cell_type": "code",
   "execution_count": null,
   "metadata": {},
   "outputs": [],
   "source": []
  },
  {
   "cell_type": "code",
   "execution_count": null,
   "metadata": {},
   "outputs": [],
   "source": []
  },
  {
   "cell_type": "code",
   "execution_count": null,
   "metadata": {},
   "outputs": [],
   "source": []
  }
 ],
 "metadata": {
  "kernelspec": {
   "display_name": "PythonData",
   "language": "python",
   "name": "pythondata"
  },
  "language_info": {
   "codemirror_mode": {
    "name": "ipython",
    "version": 3
   },
   "file_extension": ".py",
   "mimetype": "text/x-python",
   "name": "python",
   "nbconvert_exporter": "python",
   "pygments_lexer": "ipython3",
   "version": "3.7.4"
  }
 },
 "nbformat": 4,
 "nbformat_minor": 4
}
